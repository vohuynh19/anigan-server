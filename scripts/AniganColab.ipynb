{
  "nbformat": 4,
  "nbformat_minor": 0,
  "metadata": {
    "colab": {
      "provenance": [],
      "toc_visible": true
    },
    "kernelspec": {
      "name": "python3",
      "display_name": "Python 3"
    },
    "language_info": {
      "name": "python"
    }
  },
  "cells": [
    {
      "cell_type": "code",
      "source": [
        "!pip install torch torchvision PyYAML requests fastapi colabcode uuid firebase_admin"
      ],
      "metadata": {
        "id": "7ACjEiINamTA"
      },
      "execution_count": null,
      "outputs": []
    },
    {
      "cell_type": "code",
      "execution_count": null,
      "metadata": {
        "id": "9eOfZm6oaid4"
      },
      "outputs": [],
      "source": [
        "!git clone https://github.com/RobynChau/AniPhoto.git"
      ]
    },
    {
      "cell_type": "code",
      "source": [
        "cd AniPhoto/ServerAnigan"
      ],
      "metadata": {
        "id": "m9zjt7zDajsD"
      },
      "execution_count": null,
      "outputs": []
    },
    {
      "cell_type": "code",
      "source": [
        "!ngrok config add-authtoken 2cREGggExHyj2fsbNJxKjFMOQH1_27XJRepJNDfNYK2CTuWD6"
      ],
      "metadata": {
        "id": "Ed6YJCKaak7v"
      },
      "execution_count": null,
      "outputs": []
    },
    {
      "cell_type": "code",
      "source": [
        "!scripts/prepare-env.sh"
      ],
      "metadata": {
        "id": "2P-JhOp_a9uf"
      },
      "execution_count": null,
      "outputs": []
    },
    {
      "cell_type": "code",
      "source": [
        "!python main.colab.py"
      ],
      "metadata": {
        "id": "E1Ud1Yqba_5v"
      },
      "execution_count": null,
      "outputs": []
    }
  ]
}